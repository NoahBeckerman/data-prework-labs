{
 "cells": [
  {
   "cell_type": "markdown",
   "metadata": {},
   "source": [
    "# Bus\n",
    "\n",
    "This bus has a passenger entry and exit control system to monitor the number of occupants it carries and thus detect when there is too high a capacity.\n",
    "\n",
    "At each stop the entry and exit of passengers is represented by a tuple consisting of two integer numbers.\n",
    "```\n",
    "bus_stop = (in, out)\n",
    "```\n",
    "The succession of stops is represented by a list of these tuples.\n",
    "```\n",
    "stops = [(in1, out1), (in2, out2), (in3, out3), (in4, out4)]\n",
    "```\n",
    "\n",
    "## Goals:\n",
    "* lists, tuples\n",
    "* while/for loops\n",
    "* minimum, maximum, length\n",
    "* average, standard deviation\n",
    "\n",
    "## Tasks\n",
    "1. Calculate the number of stops.\n",
    "2. Assign to a variable a list whose elements are the number of passengers at each stop (in-out),\n",
    "3. Find the maximum occupation of the bus.\n",
    "4. Calculate the average occupation. And the standard deviation.\n"
   ]
  },
  {
   "cell_type": "code",
   "execution_count": 1,
   "metadata": {},
   "outputs": [],
   "source": [
    "# variables\n",
    "\n",
    "import statistics \n",
    "# variables\n",
    "stop_count = 0 # counter used in current person count display\n",
    "stops = [(9, 0), (6, 3), (2, 6), (1, 0), (3, 1), (4, 5), (8, 4), (4, 5), (5, 10)] # random numbers and stops\n"
   ]
  },
  {
   "cell_type": "code",
   "execution_count": 2,
   "metadata": {},
   "outputs": [
    {
     "name": "stdout",
     "output_type": "stream",
     "text": [
      "---Bus Persons Calculator--\n",
      "Total number of stops: 9\n"
     ]
    }
   ],
   "source": [
    "print(\"---Bus Persons Calculator--\")\n",
    "# 1. Calculate the number of stops.\n",
    "total_stops = len(stops)\n",
    "\n",
    "print(\"Total number of stops: {0}\".format(total_stops))"
   ]
  },
  {
   "cell_type": "code",
   "execution_count": 3,
   "metadata": {},
   "outputs": [
    {
     "name": "stdout",
     "output_type": "stream",
     "text": [
      "-----------\n",
      "Stop: 1\n",
      " - Person(s): 9\n",
      "Stop: 2\n",
      " - Person(s): 12\n",
      "Stop: 3\n",
      " - Person(s): 8\n",
      "Stop: 4\n",
      " - Person(s): 9\n",
      "Stop: 5\n",
      " - Person(s): 11\n",
      "Stop: 6\n",
      " - Person(s): 10\n",
      "Stop: 7\n",
      " - Person(s): 14\n",
      "Stop: 8\n",
      " - Person(s): 13\n",
      "Stop: 9\n",
      " - Person(s): 8\n"
     ]
    }
   ],
   "source": [
    "# 2. Assign a variable a list whose elements are the number of passengers in each stop: \n",
    "# Each item depends on the previous item in the list + in - out.\n",
    "total_capacity= [0] # creating a blank array to count total persons on bus\n",
    "\n",
    "\n",
    "for on, off in stops:  # loops for each stop in list\n",
    "  total_capacity.append(total_capacity[-1]+on-off)# add to counter total number of persons on bus\n",
    "\n",
    "total_capacity = total_capacity[1::] # removes the first 0 on list\n",
    "print(\"-----------\")\n",
    "\n",
    "\n",
    "for current_persons_count in total_capacity: # displays list with current person count at stop #\n",
    "  stop_count += 1 # counter for current stop with person count\n",
    "  print(\"Stop: {0}\\n - Person(s): {1}\".format(stop_count, current_persons_count))"
   ]
  },
  {
   "cell_type": "code",
   "execution_count": 4,
   "metadata": {},
   "outputs": [
    {
     "name": "stdout",
     "output_type": "stream",
     "text": [
      "-----------\n",
      "Maximum person(s) on bus: 14\n"
     ]
    }
   ],
   "source": [
    "# 3. Find the maximum occupation of the bus.\n",
    "max_persons = max(total_capacity)\n",
    "print(\"-----------\")\n",
    "print(\"Maximum person(s) on bus: {0}\".format(max_persons))"
   ]
  },
  {
   "cell_type": "code",
   "execution_count": 5,
   "metadata": {},
   "outputs": [
    {
     "name": "stdout",
     "output_type": "stream",
     "text": [
      "-----------\n",
      "Average number of person(s) on bus: 10.444444444444445\n",
      "-----------\n",
      "Standard Deviation for person(s): 2.0608041101101566\n"
     ]
    }
   ],
   "source": [
    "# 4. Calculate the average occupation. And the standard deviation.\n",
    "avg_persons = sum(total_capacity)/len(total_capacity) # avg persons\n",
    "\n",
    "print(\"-----------\")\n",
    "print(\"Average number of person(s) on bus: {0}\".format(avg_persons))\n",
    "\n",
    "print(\"-----------\")\n",
    "print(\"Standard Deviation for person(s): {0}\".format(statistics.pstdev(total_capacity)))# Using imported statistics library from python to get the standard deviation."
   ]
  },
  {
   "cell_type": "code",
   "execution_count": null,
   "metadata": {},
   "outputs": [],
   "source": []
  }
 ],
 "metadata": {
  "kernelspec": {
   "display_name": "Python 3",
   "language": "python",
   "name": "python3"
  },
  "language_info": {
   "codemirror_mode": {
    "name": "ipython",
    "version": 3
   },
   "file_extension": ".py",
   "mimetype": "text/x-python",
   "name": "python",
   "nbconvert_exporter": "python",
   "pygments_lexer": "ipython3",
   "version": "3.7.0"
  }
 },
 "nbformat": 4,
 "nbformat_minor": 2
}
