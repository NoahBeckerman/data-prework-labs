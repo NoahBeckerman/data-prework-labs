{
 "cells": [
  {
   "cell_type": "markdown",
   "metadata": {},
   "source": [
    "# Snail and well\n",
    "\n",
    "A snail falls at the bottom of a 125 cm well. Each day the snail rises 30 cm. But at night, while sleeping, slides 20 cm because the walls are wet. How many days does it take to escape from the well?\n",
    "\n",
    "TIP: http://puzzles.nigelcoldwell.co.uk/sixtytwo.htm"
   ]
  },
  {
   "cell_type": "markdown",
   "metadata": {},
   "source": [
    "## Solución"
   ]
  },
  {
   "cell_type": "code",
   "execution_count": 2,
   "metadata": {},
   "outputs": [
    {
     "name": "stdout",
     "output_type": "stream",
     "text": [
      "Days = 11\n"
     ]
    }
   ],
   "source": [
    "# Assign problem data to variables with representative names\n",
    "# well height, daily advance, night retreat, accumulated distance\n",
    "well_height_cm = 125\n",
    "daily_advance_cm = 30\n",
    "night_retreat_cm = 20\n",
    "accumulated_distance_cm = 0\n",
    "\n",
    "# Assign 0 to the variable that represents the solution\n",
    "days = 0\n",
    "\n",
    "# Write the code that solves the problem\n",
    "\n",
    "# While the total distance traveled is less than the well height continue looping\n",
    "while (accumulated_distance_cm < well_height_cm):\n",
    "#(1 day cycle)\n",
    "  days += 1 # each loop adds a day to the counter (1 day cycle)\n",
    "  accumulated_distance_cm += daily_advance_cm # add 30cm to total distance travled\n",
    "\n",
    "  if accumulated_distance_cm > well_height_cm: # if the total distance travled is greater than the well height end the loop\n",
    "    break # end loop via break\n",
    "    \n",
    "  else: # otherwise continue to night cycle\n",
    "  #(1 night cycle)\n",
    "    accumulated_distance_cm -= night_retreat_cm\n",
    "\n",
    "    \n",
    "\n",
    "\n",
    "# Print the result with print('Days =', days)\n",
    "print('Days =', days)\n",
    "\n",
    "# The total days elapsed is 11 because on the 10th night the snail drops to 100cm, \n",
    "#the next morning the snail moves 30cm making a total of 130cm which is 5cm over the well height, \n",
    "#thus removing the snail from the wells clutches!!!"
   ]
  },
  {
   "cell_type": "markdown",
   "metadata": {},
   "source": [
    "## Goals\n",
    "\n",
    "1. Treatment of variables\n",
    "2. Use of loop **while**\n",
    "3. Use of conditional **if-else**\n",
    "4. Print in console"
   ]
  },
  {
   "cell_type": "markdown",
   "metadata": {},
   "source": [
    "## Bonus\n",
    "The distance traveled by the snail is now defined by a list.\n",
    "```\n",
    "advance_cm = [30, 21, 33, 77, 44, 45, 23, 45, 12, 34, 55]\n",
    "```\n",
    "How long does it take to raise the well?\n",
    "\n",
    "What is its maximum displacement in one day? And its minimum?\n",
    "\n",
    "What is its average speed during the day?\n",
    "\n",
    "What is the standard deviation of its displacement during the day?"
   ]
  },
  {
   "cell_type": "code",
   "execution_count": 1,
   "metadata": {},
   "outputs": [
    {
     "name": "stdout",
     "output_type": "stream",
     "text": [
      "Days = 6\n",
      "Maximum Displacment = 77 \n",
      "Minimum Displacement = 12\n",
      "Average Progress = 38.09090909090909\n",
      "Standard Deviation = 17.159437082600803\n"
     ]
    }
   ],
   "source": [
    "import statistics \n",
    "\n",
    "# Assign problem data to variables with representative names\n",
    "# well height, daily advance, night retreat, accumulated distance\n",
    "advance_cm, well_height_cm, night_retreat_cm, accumulated_distance_cm= [30, 21, 33, 77, 44, 45, 23, 45, 12, 34, 55], 125, 20, 0\n",
    "\n",
    "\n",
    "# Assign 0 to the variable that represents the solution\n",
    "days = 0 # Total days elapsed\n",
    "\n",
    "# Write the code that solves the problem\n",
    "for comp_day in advance_cm:  # counts each number in array and counts it as a day\n",
    "#(1 full day)\n",
    "    days += 1 # add day to counter\n",
    "    accumulated_distance_cm += comp_day # add current dist travled in day and add to total moved distance\n",
    "    \n",
    "    if accumulated_distance_cm > well_height_cm: #if snail is over the well height break for loop\n",
    "        break # exit loop via break\n",
    "        \n",
    "    else: # if not over well height snail = sleep so remove 20cm from total height\n",
    "    #(1 full night)\n",
    "        accumulated_distance_cm -= night_retreat_cm # night time draw back\n",
    "\n",
    "\n",
    "\n",
    "# Print the result with print('Days =', days)\n",
    "print('Days =', days)\n",
    "\n",
    "# What is its maximum displacement in a day? And its minimum?\n",
    "max_disp, mini_disp = max(advance_cm), min(advance_cm) #using python version of what was taught on lesson for google sheets\n",
    "print(\"Maximum Displacment = {0} \\nMinimum Displacement = {1}\".format(max_disp, mini_disp))\n",
    "\n",
    "# What is its average progress?\n",
    "avrg_prog = sum(advance_cm)/len(advance_cm) # adding all distances travled and dividing them by the amount of numbers in array\n",
    "print(\"Average Progress = {0}\".format(avrg_prog))\n",
    "\n",
    "# What is the standard deviation of your displacement during the day?\n",
    "print(\"Standard Deviation = {0}\".format(statistics.pstdev(advance_cm))) # Using imported statistics library from python to get the standard deviation."
   ]
  },
  {
   "cell_type": "code",
   "execution_count": null,
   "metadata": {},
   "outputs": [],
   "source": []
  }
 ],
 "metadata": {
  "kernelspec": {
   "display_name": "Python 3",
   "language": "python",
   "name": "python3"
  },
  "language_info": {
   "codemirror_mode": {
    "name": "ipython",
    "version": 3
   },
   "file_extension": ".py",
   "mimetype": "text/x-python",
   "name": "python",
   "nbconvert_exporter": "python",
   "pygments_lexer": "ipython3",
   "version": "3.7.0"
  }
 },
 "nbformat": 4,
 "nbformat_minor": 2
}
