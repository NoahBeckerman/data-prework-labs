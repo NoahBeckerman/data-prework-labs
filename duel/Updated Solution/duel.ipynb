{
 "cells": [
  {
   "cell_type": "markdown",
   "metadata": {},
   "source": [
    "# Duel of sorcerers\n",
    "You are witnessing an epic battle between two powerful sorcerers: Gandalf and Saruman. Each sorcerer has 10 spells of variable power in their mind and they are going to throw them one after the other. The winner of the duel will be the one who wins more of those clashes between spells. Spells are represented as a list of 10 integers whose value equals the power of the spell.\n",
    "```\n",
    "gandalf = [10, 11, 13, 30, 22, 11, 10, 33, 22, 22]\n",
    "saruman = [23, 66, 12, 43, 12, 10, 44, 23, 12, 17]\n",
    "```\n",
    "For example:\n",
    "1. The first clash is won by Saruman: 10 against 23, wins 23\n",
    "2. The second clash wins Saruman: 11 against 66, wins 66\n",
    "3. etc.\n",
    "\n",
    "\n",
    "You will create two variables, one for each sorcerer, where the sum of clashes won will be stored. Depending on which variable is greater at the end of the duel, you will show one of the following three results on the screen:\n",
    "* Gandalf wins\n",
    "* Saruman wins\n",
    "* Tie\n",
    "\n",
    "<img src=\"images/content_lightning_bolt_big.jpg\" width=\"400\">"
   ]
  },
  {
   "cell_type": "markdown",
   "metadata": {},
   "source": [
    "## Solution"
   ]
  },
  {
   "cell_type": "code",
   "execution_count": 1,
   "metadata": {},
   "outputs": [],
   "source": [
    "# Assign spell power lists to variables\n",
    "\n",
    "gandalf = [10, 11, 13, 30, 22, 11, 10, 33, 22, 22]\n",
    "saruman = [23, 66, 12, 43, 12, 10, 44, 23, 12, 17]"
   ]
  },
  {
   "cell_type": "code",
   "execution_count": 2,
   "metadata": {},
   "outputs": [],
   "source": [
    "# Assign 0 to each variable that stores the victories\n",
    "score_gandalf = 0\n",
    "score_saruman = 0"
   ]
  },
  {
   "cell_type": "code",
   "execution_count": 3,
   "metadata": {},
   "outputs": [
    {
     "name": "stdout",
     "output_type": "stream",
     "text": [
      "Saruman has won!\n",
      "- Gandalf's power: 10\n",
      "- Saruman's power: 23 \n",
      "\n",
      "Saruman has won!\n",
      "- Gandalf's power: 11\n",
      "- Saruman's power: 66 \n",
      "\n",
      "Gandalf has won!\n",
      "- Gandalf's power: 13\n",
      "- Saruman's power: 12 \n",
      "\n",
      "Saruman has won!\n",
      "- Gandalf's power: 30\n",
      "- Saruman's power: 43 \n",
      "\n",
      "Gandalf has won!\n",
      "- Gandalf's power: 22\n",
      "- Saruman's power: 12 \n",
      "\n",
      "Gandalf has won!\n",
      "- Gandalf's power: 11\n",
      "- Saruman's power: 10 \n",
      "\n",
      "Saruman has won!\n",
      "- Gandalf's power: 10\n",
      "- Saruman's power: 44 \n",
      "\n",
      "Gandalf has won!\n",
      "- Gandalf's power: 33\n",
      "- Saruman's power: 23 \n",
      "\n",
      "Gandalf has won!\n",
      "- Gandalf's power: 22\n",
      "- Saruman's power: 12 \n",
      "\n",
      "Gandalf has won!\n",
      "- Gandalf's power: 22\n",
      "- Saruman's power: 17 \n",
      "\n"
     ]
    }
   ],
   "source": [
    "# Execution of spell clashes\n",
    "for spell_power in range(len(gandalf)):\n",
    "\n",
    "    if gandalf[spell_power] > saruman[spell_power]:\n",
    "        score_gandalf += 1\n",
    "        print(\n",
    "            \"Gandalf has won!\\n- Gandalf's power: {0}\\n- Saruman's power: {1} \\n\"\n",
    "            .format(gandalf[spell_power], saruman[spell_power]))\n",
    "\n",
    "    elif saruman[spell_power] > gandalf[spell_power]:\n",
    "        score_saruman += 1\n",
    "        print(\n",
    "            \"Saruman has won!\\n- Gandalf's power: {0}\\n- Saruman's power: {1} \\n\"\n",
    "            .format(gandalf[spell_power], saruman[spell_power]))\n",
    "\n",
    "    else:\n",
    "        print(\"Clash was a draw!\")"
   ]
  },
  {
   "cell_type": "code",
   "execution_count": 4,
   "metadata": {},
   "outputs": [
    {
     "name": "stdout",
     "output_type": "stream",
     "text": [
      "Gandalf's Wins: 6\n",
      "Saurman's Wins: 4\n",
      "Victor is: Gandalf\n"
     ]
    }
   ],
   "source": [
    "# We check who has won, do not forget the possibility of a draw.\n",
    "# Print the result based on the winner.\n",
    "if score_gandalf > score_saruman:\n",
    "    winner = (\"Gandalf\")\n",
    "\n",
    "elif score_gandalf < score_saruman:\n",
    "    winner = (\"Saruman\")\n",
    "\n",
    "else:\n",
    "    winner = (\"NO ONE!!! It is a draw :)\")\n",
    "\n",
    "print(\"Gandalf's Wins: {0}\\nSaurman's Wins: {1}\\nVictor is: {2}\".format(\n",
    "    score_gandalf, score_saruman, winner))"
   ]
  },
  {
   "cell_type": "markdown",
   "metadata": {},
   "source": [
    "## Goals\n",
    "\n",
    "1. Treatment of lists\n",
    "2. Use of **for loop**\n",
    "3. Use of conditional **if-elif-else**\n",
    "4. Use of the functions **range(), len()**\n",
    "5. Print"
   ]
  },
  {
   "cell_type": "markdown",
   "metadata": {},
   "source": [
    "## Bonus\n",
    "\n",
    "1. Spells now have a name and there is a dictionary that relates that name to a power.\n",
    "2. A sorcerer wins if he succeeds in winning 3 spell clashes in a row.\n",
    "3. Average of each of the spell lists.\n",
    "4. Standard deviation of each of the spell lists.\n",
    "\n",
    "```\n",
    "POWER = {\n",
    "    'Fireball': 50, \n",
    "    'Lightning bolt': 40, \n",
    "    'Magic arrow': 10, \n",
    "    'Black Tentacles': 25, \n",
    "    'Contagion': 45\n",
    "}\n",
    "\n",
    "gandalf = ['Fireball', 'Lightning bolt', 'Lightning bolt', 'Magic arrow', 'Fireball', \n",
    "           'Magic arrow', 'Lightning bolt', 'Fireball', 'Fireball', 'Fireball']\n",
    "saruman = ['Contagion', 'Contagion', 'Black Tentacles', 'Fireball', 'Black Tentacles', \n",
    "           'Lightning bolt', 'Magic arrow', 'Contagion', 'Magic arrow', 'Magic arrow']\n",
    "```\n",
    "\n",
    "Good luck!"
   ]
  },
  {
   "cell_type": "code",
   "execution_count": 5,
   "metadata": {},
   "outputs": [],
   "source": [
    "import statistics\n",
    "# 1. Spells now have a name and there is a dictionary that relates that name to a power.\n",
    "# variables\n",
    "\n",
    "POWER = {\n",
    "    'Fireball': 50, \n",
    "    'Lightning bolt': 40, \n",
    "    'Magic arrow': 10, \n",
    "    'Black Tentacles': 25, \n",
    "    'Contagion': 45\n",
    "}\n",
    "\n",
    "gandalf = ['Fireball', 'Lightning bolt', 'Lightning bolt', 'Magic arrow', 'Fireball', \n",
    "           'Magic arrow', 'Lightning bolt', 'Fireball', 'Magic arrow', 'Fireball']\n",
    "saruman = ['Contagion', 'Contagion', 'Black Tentacles', 'Fireball', 'Black Tentacles', \n",
    "           'Lightning bolt', 'Magic arrow', 'Contagion', 'Magic arrow', 'Magic arrow']"
   ]
  },
  {
   "cell_type": "code",
   "execution_count": 6,
   "metadata": {},
   "outputs": [],
   "source": [
    "# Assign spell power lists to variables\n",
    "\n",
    "gandalf_power = [POWER[spell_name] for spell_name in gandalf]\n",
    "saruman_power = [POWER[spell_name] for spell_name in saruman]"
   ]
  },
  {
   "cell_type": "code",
   "execution_count": 7,
   "metadata": {},
   "outputs": [
    {
     "name": "stdout",
     "output_type": "stream",
     "text": [
      "--Lets start this battle!--\n",
      "Gandalf has won a clash!\n",
      "Saruman has won a clash!\n",
      "Gandalf has won a clash!\n",
      "Saruman has won a clash!\n",
      "Gandalf has won a clash!\n",
      "Saruman has won a clash!\n",
      "Gandalf has won a clash!\n",
      "Gandalf has won a clash!\n",
      "It's a tie!\n",
      "Gandalf has won a clash!\n",
      "---------------------------\n",
      "Gandalf has won overall!\n"
     ]
    }
   ],
   "source": [
    "import statistics\n",
    "# 1. Spells now have a name and there is a dictionary that relates that name to a power.\n",
    "# variables\n",
    "POWER = {\n",
    "    'Fireball': 50,\n",
    "    'Lightning bolt': 40,\n",
    "    'Magic arrow': 10,\n",
    "    'Black Tentacles': 25,\n",
    "    'Contagion': 45\n",
    "}\n",
    "\n",
    "gandalf = [\n",
    "    'Fireball', 'Lightning bolt', 'Lightning bolt', 'Magic arrow', 'Fireball',\n",
    "    'Magic arrow', 'Lightning bolt', 'Fireball', 'Magic arrow', 'Fireball'\n",
    "]\n",
    "saruman = [\n",
    "    'Contagion', 'Contagion', 'Black Tentacles', 'Fireball', 'Black Tentacles',\n",
    "    'Lightning bolt', 'Magic arrow', 'Contagion', 'Magic arrow', 'Magic arrow'\n",
    "]\n",
    "\n",
    "# Assign spell power lists to variables\n",
    "gandalf_power = [POWER[spell_name] for spell_name in gandalf]\n",
    "saruman_power = [POWER[spell_name] for spell_name in saruman]\n",
    "\n",
    "# 2. A sorcerer wins if he succeeds in winning 3 spell clashes in a row.\n",
    "gandalf_score = []\n",
    "saruman_score = []\n",
    "\n",
    "# Execution of spell clashes\n",
    "print(\"--Lets start this battle!--\")\n",
    "for g_power, s_power in zip(gandalf_power, saruman_power):\n",
    "    if g_power > s_power:\n",
    "        gandalf_score.append(True)\n",
    "        saruman_score.append(False)\n",
    "        for win in gandalf_score:\n",
    "            if win == True:\n",
    "                gandalf_string = ''.join('1')\n",
    "            else:\n",
    "                gandalf_string = ''.join('0')\n",
    "        print(\"Gandalf has won a clash!\")\n",
    "    elif g_power < s_power:\n",
    "        gandalf_score.append(False)\n",
    "        saruman_score.append(True)\n",
    "        for win in saruman_score:\n",
    "            if win == True:\n",
    "                saruman_string = ''.join('1')\n",
    "            else:\n",
    "\n",
    "                saruman_string = ''.join('0')\n",
    "        print(\"Saruman has won a clash!\")\n",
    "        \n",
    "    else:  #Otherwise its a tie\n",
    "        gandalf_score.append(False)\n",
    "        saruman_score.append(False)\n",
    "        print(\"It's a tie!\")\n",
    "print(\"---------------------------\")\n",
    "\n",
    "gandalf_win = gandalf_string.find('111')\n",
    "saruman_win = saruman_string.find('111')\n",
    "\n",
    "# check the winner\n",
    "if gandalf_win > saruman_win:\n",
    "    print('Gandalf has won three times in a row!')\n",
    "elif gandalf_win < saruman_win:\n",
    "    print('Saruman has won three times in a row!')\n",
    "else:\n",
    "    if sum(gandalf_score) > sum(saruman_score):\n",
    "        print('Gandalf has won overall!')\n",
    "    elif sum(gandalf_score) < sum(saruman_score):\n",
    "        print('Saruman has won overall!')\n",
    "    else:\n",
    "        print('It is a tie!')"
   ]
  },
  {
   "cell_type": "code",
   "execution_count": 8,
   "metadata": {},
   "outputs": [
    {
     "name": "stdout",
     "output_type": "stream",
     "text": [
      " - Gandalf's Average Power: 35.00\n",
      " - Saruman's Average Power 30.50\n"
     ]
    }
   ],
   "source": [
    "# 3. Average of each of the spell lists.\n",
    "g_avg = sum(gandalf_power) / len(gandalf_power)\n",
    "s_avg = sum(saruman_power) / len(saruman_power)\n",
    "print(\" - Gandalf's Average Power: {:2.2f}\\n - Saruman's Average Power {:2.2f}\".format(g_avg, s_avg))"
   ]
  },
  {
   "cell_type": "code",
   "execution_count": 9,
   "metadata": {},
   "outputs": [
    {
     "name": "stdout",
     "output_type": "stream",
     "text": [
      " - Standard Deviation for Gandalf = 16.88\n",
      " - Standard Deviation for Saruman = 15.56\n"
     ]
    }
   ],
   "source": [
    "# 4. Standard deviation of each of the spell lists.\n",
    "print(\" - Standard Deviation for Gandalf = {:2.2f}\".format(statistics.pstdev(gandalf_power)))\n",
    "print(\" - Standard Deviation for Saruman = {:2.2f}\".format(statistics.pstdev(saruman_power)))"
   ]
  }
 ],
 "metadata": {
  "kernelspec": {
   "display_name": "Python 3",
   "language": "python",
   "name": "python3"
  },
  "language_info": {
   "codemirror_mode": {
    "name": "ipython",
    "version": 3
   },
   "file_extension": ".py",
   "mimetype": "text/x-python",
   "name": "python",
   "nbconvert_exporter": "python",
   "pygments_lexer": "ipython3",
   "version": "3.7.0"
  }
 },
 "nbformat": 4,
 "nbformat_minor": 2
}
