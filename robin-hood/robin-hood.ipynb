{
 "cells": [
  {
   "cell_type": "markdown",
   "metadata": {},
   "source": [
    "# Robin Hood:\n",
    "We are in a competition to win the archery contest in Sherwood. With our bow and arrows we shoot on a target and try to hit as close as possible to the center.\n",
    "\n",
    "The center of the target is represented by the values (0, 0) on the coordinate axes.\n",
    "\n",
    "![](images/arrows.jpg)\n",
    "\n",
    "## Goals:\n",
    "* data structures: lists, sets, tuples\n",
    "* logical operators: if-elif-else\n",
    "* loop: while/for\n",
    "* minimum (optional sorting)\n",
    "\n",
    "## Description:\n",
    "In the 2-dimensional space, a point can be defined by a pair of values that correspond to the horizontal coordinate (x) and the vertical coordinate (y). The space can be divided into 4 zones (quadrants): Q1, Q2, Q3, Q4. Whose single point of union is the point (0, 0).\n",
    "\n",
    "If a point is in Q1 both its x coordinate and the y are positive. I leave a link to wikipedia to familiarize yourself with these quadrants.\n",
    "\n",
    "https://en.wikipedia.org/wiki/Cartesian_coordinate_system\n",
    "\n",
    "https://en.wikipedia.org/wiki/Euclidean_distance\n",
    "\n",
    "## Shots\n",
    "```\n",
    "points = [(4, 5), (-0, 2), (4, 7), (1, -3), (3, -2), (4, 5),\n",
    "          (3, 2), (5, 7), (-5, 7), (2, 2), (-4, 5), (0, -2),\n",
    "          (-4, 7), (-1, 3), (-3, 2), (-4, -5), (-3, 2),\n",
    "          (5, 7), (5, 7), (2, 2), (9, 9), (-8, -9)]\n",
    "```\n",
    "\n",
    "## Tasks\n",
    "1. Robin Hood is famous for hitting an arrow with another arrow. Did you get it?\n",
    "2. Calculate how many arrows have fallen in each quadrant.\n",
    "3. Find the point closest to the center. Calculate its distance to the center. \n",
    "4. If the target has a radius of 9, calculate the number of arrows that must be picked up in the forest."
   ]
  },
  {
   "cell_type": "code",
   "execution_count": 1,
   "metadata": {},
   "outputs": [],
   "source": [
    "# Variables\n",
    "points = [(4, 5), (-0, 2), (4, 7), (1, -3), (3, -2), (4, 5),\n",
    "          (3, 2), (5, 7), (-5, 7), (2, 2), (-4, 5), (0, -2),\n",
    "          (-4, 7), (-1, 3), (-3, 2), (-4, -5), (-3, 2),\n",
    "          (5, 7), (5, 7), (2, 2), (9, 9), (-8, -9)]\n",
    "Quad_1, Quad_2, Quad_3, Quad_4 = [], [], [], [] \n",
    "quad_count = 0 # counter for each loop to apply counted arrows to right quad\n",
    "#Functions \n",
    "def distance_from_center(point): \n",
    "    x, y = point\n",
    "    return (x**2 + y**2)**0.5 # gets the closest number and rounds up its point no matter the input (float or int) and returns (int)"
   ]
  },
  {
   "cell_type": "code",
   "execution_count": 2,
   "metadata": {},
   "outputs": [
    {
     "name": "stdout",
     "output_type": "stream",
     "text": [
      "Did Robin hit an arrow in the same place?: True\n"
     ]
    }
   ],
   "source": [
    "# 1. Robin Hood is famous for hitting an arrow with another arrow. Did you get it?\n",
    "unique_points = set(points) # Removes doubles from list[points], then makes a set of remaining unique points.\n",
    "arrow_x2 = len(points) > len(unique_points) # boolean check to see if total shots is more than unique arrow points ( indicating arrow on top of another arrow is true or false)\n",
    "\n",
    "print(\"Did Robin hit an arrow in the same place?: {0}\".format(arrow_x2))"
   ]
  },
  {
   "cell_type": "code",
   "execution_count": 3,
   "metadata": {},
   "outputs": [
    {
     "name": "stdout",
     "output_type": "stream",
     "text": [
      "Arrows in Quadrant 1: 10\n",
      "Arrows in Quadrant 2: 6\n",
      "Arrows in Quadrant 3: 2\n",
      "Arrows in Quadrant 4: 2\n"
     ]
    }
   ],
   "source": [
    "# 2. Calculate how many arrows have fallen in each quadrant.\n",
    "for x, y in points: \n",
    "  if x>0 and y>0:  #Quad_1 = positive x and y cords\n",
    "   Quad_1.append((x, y))\n",
    "  if x<0 and y>0: #Quad_2 = negative x and positive y cords\n",
    "   Quad_2.append((x, y))\n",
    "  if x<0 and y<0: #Quad_3 = negative x and y cords\n",
    "   Quad_3.append((x, y))\n",
    "  if x>0 and y<0: #Quad_4 = positive x and negative y cords\n",
    "   Quad_4.append((x, y))\n",
    "        \n",
    "Arrow_2_Quad_Cords = [len(Quad_1), len(Quad_2), len(Quad_3), len(Quad_4)]\n",
    "for total_arrows in Arrow_2_Quad_Cords:\n",
    "  quad_count += 1\n",
    "  print(\"Arrows in Quadrant {0}: {1}\".format(quad_count, total_arrows))"
   ]
  },
  {
   "cell_type": "code",
   "execution_count": 4,
   "metadata": {},
   "outputs": [
    {
     "name": "stdout",
     "output_type": "stream",
     "text": [
      "The closest arrow from center point: (0, 2)\n",
      "The farthest arrow from center point: (9, 9)\n",
      "The closest arrows distance from the center point: 2.0\n",
      "The farthest arrow's distance from the center point: 12.727922061357855\n"
     ]
    }
   ],
   "source": [
    "# 3. Find the point closest to the center. Calculate its distance to the center\n",
    "# Defining a function that calculates the distance to the center can help.\n",
    "distances_from_center = sorted(points, key=distance_from_center) # uses built in sorted option in python\n",
    "\n",
    "closest_arrow = distances_from_center[0]# first sorted option is closest point\n",
    "farthest_arrow = distances_from_center[-1] # last sorted option is farthest point\n",
    "\n",
    "closest_arrow_distance = distance_from_center(closest_arrow) # uses function to calc distance\n",
    "farthest_arrow_distance = distance_from_center(farthest_arrow) # uses function to calc distance\n",
    "\n",
    "print(\"The closest arrow from center point: {0}\\nThe farthest arrow from center point: {2}\\nThe closest arrows distance from the center point: {1}\\nThe farthest arrow's distance from the center point: {3}\".format(closest_arrow, closest_arrow_distance, farthest_arrow, farthest_arrow_distance))"
   ]
  },
  {
   "cell_type": "code",
   "execution_count": 5,
   "metadata": {},
   "outputs": [
    {
     "name": "stdout",
     "output_type": "stream",
     "text": [
      "OUT OF BOUNDS ARROW: (9, 9)\n",
      "OUT OF BOUNDS ARROW: (-8, -9)\n",
      "Total out of bound arrows: 2\n"
     ]
    }
   ],
   "source": [
    "# 4. If the target has a radius of 9, calculate the number of arrows that \n",
    "# must be picked up in the forest.\n",
    "out_of_bounds = [out for out in points if distance_from_center(out) > 9] # Checks if any cord in plots list is over 9(positive or negative)\n",
    "\n",
    "for arrows in out_of_bounds: # loop for each arrow that is found and print\n",
    "  print(\"OUT OF BOUNDS ARROW: {0}\".format(arrows)) \n",
    "print(\"Total out of bound arrows: {0}\".format(len(out_of_bounds)))"
   ]
  },
  {
   "cell_type": "code",
   "execution_count": null,
   "metadata": {},
   "outputs": [],
   "source": []
  },
  {
   "cell_type": "code",
   "execution_count": null,
   "metadata": {},
   "outputs": [],
   "source": [
    "Good Work !! \n",
    "The way you have used the inbuilt functions instead of using more calculations yourself is pretty good. \n",
    "This improves the performance of the code a lott!!"
   ]
  },
  {
   "cell_type": "code",
   "execution_count": null,
   "metadata": {},
   "outputs": [],
   "source": []
  }
 ],
 "metadata": {
  "kernelspec": {
   "display_name": "Python 3",
   "language": "python",
   "name": "python3"
  },
  "language_info": {
   "codemirror_mode": {
    "name": "ipython",
    "version": 3
   },
   "file_extension": ".py",
   "mimetype": "text/x-python",
   "name": "python",
   "nbconvert_exporter": "python",
   "pygments_lexer": "ipython3",
   "version": "3.7.3"
  }
 },
 "nbformat": 4,
 "nbformat_minor": 2
}
